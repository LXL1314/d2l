{
 "cells": [
  {
   "cell_type": "code",
   "execution_count": 19,
   "metadata": {
    "collapsed": true,
    "pycharm": {
     "is_executing": false,
     "name": "#%%\n"
    }
   },
   "outputs": [],
   "source": [
    "%matplotlib inline\n",
    "from mxnet import autograd, contrib, init, nd\n",
    "from mxnet.gluon import loss as gloss, nn, Trainer\n",
    "import time\n",
    "import mxnet as mx\n",
    "from chapter9 import *\n",
    "\n",
    "##类别预测层， 每个锚对应着目标类别数加一， 类别0对应着背景\n",
    "def cls_predictor(num_anchors, num_classes):\n",
    "    return nn.Conv2D(num_anchors * (num_classes + 1), kernel_size=3, padding=1)\n",
    "    ##预测输出的格式为(批量大小, 通道数, 高, 宽),通道维包含中心相同的锚框的预测结果\n",
    "    ##保持输入输出的大小不变\n",
    "    \n",
    "##边界框预测层，每个锚有四个偏移量\n",
    "def bbox_predictor(num_anchors):\n",
    "    return nn.Conv2D(num_anchors * 4, kernel_size=3, padding=1)\n",
    "    ##预测输出的格式为(批量大小, 通道数, 高, 宽), 通道维包含中心相同的锚框的预测结果\n",
    "    ##保持输入输出的大小不变\n",
    "\n",
    "def forward(x, block):\n",
    "    block.initialize()\n",
    "    return block(x)\n"
   ]
  },
  {
   "cell_type": "code",
   "execution_count": 2,
   "outputs": [
    {
     "data": {
      "text/plain": "((2, 55, 20, 20), (2, 33, 10, 10))"
     },
     "metadata": {},
     "output_type": "execute_result",
     "execution_count": 2
    }
   ],
   "source": [
    "Y1 = forward(nd.zeros((2, 8, 20, 20)), cls_predictor(5, 10))\n",
    "Y2 = forward(nd.zeros((2, 16, 10, 10)), cls_predictor(3, 10))\n",
    "Y1.shape, Y2.shape\n",
    "## 除了批量大小外，其他维度大小均不一样\n",
    "## 需要将它们变形成统一的格式并将多尺度的预测连结，从而让后续计算更简单。\n",
    "\n"
   ],
   "metadata": {
    "collapsed": false,
    "pycharm": {
     "name": "#%%\n",
     "is_executing": false
    }
   }
  },
  {
   "cell_type": "code",
   "execution_count": 3,
   "outputs": [
    {
     "data": {
      "text/plain": "(2, 25300)"
     },
     "metadata": {},
     "output_type": "execute_result",
     "execution_count": 3
    }
   ],
   "source": [
    "## 先将通道维移到最后一维，因为不同尺度下批量大小仍保持不变。\n",
    "## 我们可以将预测结果转成二维的(批量大小, 高 × 宽 × 通道数)的格式，\n",
    "def flatten_pred(pred):##预测结果转成二维的(批量大小, 高 × 宽 × 通道数)的格式\n",
    "    return pred.transpose((0, 2, 3, 1)).flatten()\n",
    "\n",
    "def concat_preds(preds):\n",
    "    return nd.concat(*[flatten_pred(pred) for pred in preds], dim = 1)\n",
    "\n",
    "\n",
    "concat_preds([Y1, Y2]).shape\n",
    "\n"
   ],
   "metadata": {
    "collapsed": false,
    "pycharm": {
     "name": "#%%\n",
     "is_executing": false
    }
   }
  },
  {
   "cell_type": "code",
   "execution_count": 4,
   "outputs": [
    {
     "data": {
      "text/plain": "(2, 10, 3, 5)"
     },
     "metadata": {},
     "output_type": "execute_result",
     "execution_count": 4
    }
   ],
   "source": [
    "##将上一层的输出高和宽减半\n",
    "def down_sample_blk(num_channels):\n",
    "    blk = nn.Sequential()\n",
    "    for _ in range(2):\n",
    "        blk.add(nn.Conv2D(num_channels, kernel_size=3, padding=1),\n",
    "                nn.BatchNorm(in_channels=num_channels),\n",
    "                nn.Activation('relu'))\n",
    "    blk.add(nn.MaxPool2D(pool_size=2, strides=2))##高和宽减半\n",
    "    return blk\n",
    "\n",
    "forward(nd.zeros((2, 3, 6, 10)), down_sample_blk(10)).shape\n"
   ],
   "metadata": {
    "collapsed": false,
    "pycharm": {
     "name": "#%%\n",
     "is_executing": false
    }
   }
  },
  {
   "cell_type": "code",
   "execution_count": 5,
   "outputs": [
    {
     "data": {
      "text/plain": "(2, 64, 32, 32)"
     },
     "metadata": {},
     "output_type": "execute_result",
     "execution_count": 5
    }
   ],
   "source": [
    "##三层，每一层大小减半，通道数翻倍\n",
    "def base_net():\n",
    "    blk = nn.Sequential()\n",
    "    for num_channels in [16, 32, 64]:\n",
    "        blk.add(down_sample_blk(num_channels))\n",
    "    return blk\n",
    "    \n",
    "forward(nd.zeros((2, 3, 256, 256)), base_net()).shape\n",
    "\n"
   ],
   "metadata": {
    "collapsed": false,
    "pycharm": {
     "name": "#%%\n",
     "is_executing": false
    }
   }
  },
  {
   "cell_type": "code",
   "execution_count": 6,
   "outputs": [],
   "source": [
    "def get_blk(i):\n",
    "    if i == 0:\n",
    "        blk = base_net()\n",
    "    elif i == 4:\n",
    "        blk = nn.GlobalMaxPool2D()\n",
    "    else:\n",
    "        blk = down_sample_blk(128)\n",
    "    return blk\n",
    "        \n",
    "\n",
    "def blk_forward(X, blk, size, ratio, cls_predictor, bbox_predictor):\n",
    "    Y = blk(X)\n",
    "    anchors = contrib.nd.MultiBoxPrior(Y, sizes=size, ratios= ratio)\n",
    "    cls_preds = cls_predictor(Y)\n",
    "    bbox_preds = bbox_predictor(Y)\n",
    "    return (Y, anchors, cls_preds, bbox_preds)\n",
    "\n"
   ],
   "metadata": {
    "collapsed": false,
    "pycharm": {
     "name": "#%%\n",
     "is_executing": false
    }
   }
  },
  {
   "cell_type": "code",
   "execution_count": 7,
   "outputs": [],
   "source": [
    "sizes = [[0.2, 0.272], [0.37, 0.447], [0.54, 0.619], [0.71, 0.79],\n",
    "         [0.88, 0.961]]\n",
    "ratios = [[1, 2, 0.5]] * 5\n",
    "num_anchors = len(sizes[0]) + len(ratios[0]) - 1\n",
    "\n",
    "class TinySSD(nn.Block):\n",
    "    def __init__(self, num_classes, **kwargs):\n",
    "        super(TinySSD, self).__init__(**kwargs)\n",
    "        self.num_classes = num_classes\n",
    "        for i in range(5):\n",
    "            setattr(self, 'blk_%d' % i, get_blk(i))\n",
    "            setattr(self, 'cls_%d' % i, cls_predictor(num_anchors, num_classes))\n",
    "            setattr(self, 'bbox_%d' % i, bbox_predictor(num_anchors))\n",
    "        \n",
    "    def forward(self, X):\n",
    "        anchors, cls_preds, bbox_preds = [None]*5, [None]*5, [None]*5\n",
    "        for i in range(5):\n",
    "            X, anchors[i], cls_preds[i], bbox_preds[i] = \\\n",
    "                blk_forward(X, getattr(self, 'blk_%d' % i), sizes[i], ratios[i], \n",
    "                            getattr(self, 'cls_%d' % i), getattr(self, 'bbox_%d' % i))\n",
    "        return (nd.concat(*anchors, dim=1),\n",
    "                concat_preds(cls_preds).reshape((0, -1, self.num_classes + 1)), \n",
    "                concat_preds(bbox_preds))\n",
    "    ##输出层的anchors， 类别预测， 以及预测边界框\n"
   ],
   "metadata": {
    "collapsed": false,
    "pycharm": {
     "name": "#%%\n",
     "is_executing": false
    }
   }
  },
  {
   "cell_type": "code",
   "execution_count": 8,
   "outputs": [
    {
     "name": "stdout",
     "text": [
      "output anchors: (1, 5444, 4)\noutput class preds: (32, 5444, 2)\noutput bbox preds: (32, 21776)\n"
     ],
     "output_type": "stream"
    }
   ],
   "source": [
    "net = TinySSD(num_classes=1)\n",
    "net.initialize()\n",
    "X = nd.zeros((32, 3, 256, 256))\n",
    "anchors, cls_preds, bbox_preds = net(X)\n",
    "print('output anchors:', anchors.shape)\n",
    "print('output class preds:', cls_preds.shape)\n",
    "print('output bbox preds:', bbox_preds.shape)\n"
   ],
   "metadata": {
    "collapsed": false,
    "pycharm": {
     "name": "#%%\n",
     "is_executing": false
    }
   }
  },
  {
   "cell_type": "code",
   "execution_count": 20,
   "outputs": [],
   "source": [
    "batch_size = 32\n",
    "train_iter, _ = load_data_pikachu(batch_size)\n",
    "net = TinySSD(num_classes=1)\n",
    "ctx = mx.cpu()\n",
    "net.initialize(init=init.Xavier())\n",
    "trainer = Trainer(net.collect_params(), 'sgd', {'learning_rate': 0.2, 'wd': 5e-4})\n",
    "\n"
   ],
   "metadata": {
    "collapsed": false,
    "pycharm": {
     "name": "#%%\n",
     "is_executing": false
    }
   }
  },
  {
   "cell_type": "code",
   "execution_count": 15,
   "outputs": [],
   "source": [
    "##定义损失函数\n",
    "cls_loss = gloss.SoftmaxCrossEntropyLoss()\n",
    "##使用了 L1 范数损失\n",
    "bbox_loss = gloss.L1Loss()\n",
    "\n",
    "##掩码变量bbox_masks令负类锚框和填充锚框不参与损失的计算\n",
    "##所有样本损失的总和，没有除以样本数\n",
    "def calc_loss(cls_preds, cls_labels, bbox_preds, bbox_labels, bbox_masks):\n",
    "    cls = cls_loss(cls_preds, cls_labels)\n",
    "    bbox = bbox_loss(bbox_preds * bbox_masks, bbox_labels * bbox_masks)\n",
    "    return cls + bbox\n",
    "    "
   ],
   "metadata": {
    "collapsed": false,
    "pycharm": {
     "name": "#%%\n",
     "is_executing": false
    }
   }
  },
  {
   "cell_type": "code",
   "execution_count": null,
   "outputs": [],
   "source": [
    "##定义评价函数：总和，没有除以样本数\n",
    "def cls_eval(cls_preds, cls_labels):\n",
    "    return (cls_preds.argmax(axis=-1) == cls_labels).sum().asscalar()\n",
    "\n",
    "##使用了 L1 范数损失，我们用平均绝对误差评价边界框的预测结果。\n",
    "def bbox_eval(bbox_preds, bbox_labels, bbox_masks):\n",
    "    return ((bbox_preds - bbox_labels) * bbox_masks).abs().sum().asscalar()\n"
   ],
   "metadata": {
    "collapsed": false,
    "pycharm": {
     "name": "#%%\n",
     "is_executing": true
    }
   }
  },
  {
   "cell_type": "code",
   "execution_count": null,
   "outputs": [
    {
     "name": "stderr",
     "text": [
      "d:\\python3.7\\lib\\site-packages\\ipykernel_launcher.py:27: RuntimeWarning: divide by zero encountered in double_scalars\n"
     ],
     "output_type": "stream"
    },
    {
     "name": "stdout",
     "text": [
      "epoch  5, class err -inf, bbox mae 3.20e-03, time 276.3 sec\n"
     ],
     "output_type": "stream"
    }
   ],
   "source": [
    "##训练模型\n",
    "for epoch in range(20):\n",
    "    acc_sum, mae_sum, n, m = 0.0, 0.0, 0, 0\n",
    "    train_iter.reset()\n",
    "    start = time.time()\n",
    "    for batch in train_iter:\n",
    "        X = batch.data[0].as_in_context(ctx)\n",
    "        Y = batch.label[0].as_in_context(ctx)\n",
    "        with autograd.record():\n",
    "            ##生成多尺度的锚框，为每个锚框预测类别和偏移量\n",
    "            anchors, cls_preds, bbox_preds = net(X)\n",
    "            ##为每个锚框标注类别和偏移量\n",
    "            bbox_labels, bbox_masks, cls_labels = contrib.nd.MultiBoxTarget(\n",
    "                anchors, Y, cls_preds.transpose((0, 2, 1)))   \n",
    "            # 根据类别和偏移量的预测和标注值计算损失函数\n",
    "            lo = calc_loss(cls_preds, cls_labels, bbox_preds, bbox_labels,\n",
    "                          bbox_masks)\n",
    "        lo.backward()\n",
    "        trainer.step(batch_size)\n",
    "        acc_sum += cls_eval(cls_preds, cls_labels)\n",
    "        n += cls_labels.size\n",
    "        mae_sum += bbox_eval(bbox_preds, bbox_labels, bbox_masks)\n",
    "        m += bbox_labels.size\n",
    "    \n",
    "    if (epoch + 1) % 5 == 0:\n",
    "        print('epoch %2d, class err %.2e, bbox mae %.2e, time %.1f sec' \n",
    "              %(epoch + 1, 1-  acc_sum / n, mae_sum / m, time.time() - start))\n",
    "        \n"
   ],
   "metadata": {
    "collapsed": false,
    "pycharm": {
     "name": "#%%\n",
     "is_executing": true
    }
   }
  },
  {
   "cell_type": "code",
   "execution_count": null,
   "outputs": [],
   "source": [
    "##还未运行\n",
    "img = image.imread('../img/pikachu.jpg')\n",
    "feature = image.imresize(img, 256, 256).astype('float32')\n",
    "X = feature.transpose((2, 0, 1)).expand_dims(axis=0)\n",
    "\n",
    "def predict(X):\n",
    "    anchors, cls_preds, bbox_preds = net(X)\n",
    "    cls_probs = cls_preds.softmax().transpose((0, 2, 1))\n",
    "    output = contrib.nd.MultiBoxDetection(cls_probs, bbox_preds, anchors)\n",
    "    idx = [i for i, row in enumerate(output[0]) if row[0].asscalar() != -1]\n",
    "    return output[0, idx]\n",
    "    ##通过非极大值抑制移除相似的预测边界框。\n",
    "    ##见anchor程序最下面的代码\n",
    "    \"\"\"output形如下：\n",
    "    [[[ 0.    0.9   0.1   0.08  0.52  0.92]\n",
    "    [ 1.    0.9   0.55  0.2   0.9   0.88]\n",
    "    [-1.    0.8   0.08  0.2   0.56  0.95]\n",
    "    [-1.    0.7   0.15  0.3   0.62  0.91]]]\n",
    "    output[0, idx]：\n",
    "    [[ 0.    0.9   0.1   0.08  0.52  0.92]\n",
    "     [ 1.    0.9   0.55  0.2   0.9   0.88]]\n",
    "    \"\"\"\n",
    "    \n",
    "output = predict(X)\n"
   ],
   "metadata": {
    "collapsed": false,
    "pycharm": {
     "name": "#%%\n"
    }
   }
  },
  {
   "cell_type": "code",
   "execution_count": null,
   "outputs": [],
   "source": [
    "set_figsize((5, 5))\n",
    "def display(img, output, threshold):\n",
    "    fig = plt.imshow(img.asnumpy())\n",
    "    for row in output:\n",
    "        score = row[1].asscalar()\n",
    "        if score < threshold:\n",
    "            continue\n",
    "        h, w = img.shape[0:2]\n",
    "        bbox = [row[2:] * nd.array([w, h, w, h])]\n",
    "        show_bboxes(fig.axes, bbox, '%.2f' % score, 'w')\n",
    "\n",
    "display(img, output, threshold=0.3)\n"
   ],
   "metadata": {
    "collapsed": false,
    "pycharm": {
     "name": "#%%\n"
    }
   }
  }
 ],
 "metadata": {
  "language_info": {
   "codemirror_mode": {
    "name": "ipython",
    "version": 2
   },
   "file_extension": ".py",
   "mimetype": "text/x-python",
   "name": "python",
   "nbconvert_exporter": "python",
   "pygments_lexer": "ipython2",
   "version": "2.7.6"
  },
  "kernelspec": {
   "name": "python3",
   "language": "python",
   "display_name": "Python 3"
  },
  "pycharm": {
   "stem_cell": {
    "cell_type": "raw",
    "source": [],
    "metadata": {
     "collapsed": false
    }
   }
  }
 },
 "nbformat": 4,
 "nbformat_minor": 0
}